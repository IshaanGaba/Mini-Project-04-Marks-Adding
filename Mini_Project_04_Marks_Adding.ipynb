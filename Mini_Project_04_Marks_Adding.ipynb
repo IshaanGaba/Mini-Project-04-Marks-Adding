{
  "nbformat": 4,
  "nbformat_minor": 0,
  "metadata": {
    "colab": {
      "provenance": [],
      "authorship_tag": "ABX9TyOpWqtvgusgC7b6d1LOnP9X",
      "include_colab_link": true
    },
    "kernelspec": {
      "name": "python3",
      "display_name": "Python 3"
    },
    "language_info": {
      "name": "python"
    }
  },
  "cells": [
    {
      "cell_type": "markdown",
      "metadata": {
        "id": "view-in-github",
        "colab_type": "text"
      },
      "source": [
        "<a href=\"https://colab.research.google.com/github/IshaanGaba/Mini-Project-04-Marks-Adding/blob/main/Mini_Project_04_Marks_Adding.ipynb\" target=\"_parent\"><img src=\"https://colab.research.google.com/assets/colab-badge.svg\" alt=\"Open In Colab\"/></a>"
      ]
    },
    {
      "cell_type": "code",
      "execution_count": 17,
      "metadata": {
        "id": "Xrwst40tUTSG"
      },
      "outputs": [],
      "source": [
        "import pandas as pd"
      ]
    },
    {
      "cell_type": "code",
      "source": [
        "df=pd.read_csv('/content/Mini Project - Marks Adding.csv')\n",
        "df"
      ],
      "metadata": {
        "colab": {
          "base_uri": "https://localhost:8080/",
          "height": 423
        },
        "id": "Gnt4-TtrUbgj",
        "outputId": "7720dffc-d8fa-4504-d176-5da52c0cd80c"
      },
      "execution_count": 2,
      "outputs": [
        {
          "output_type": "execute_result",
          "data": {
            "text/plain": [
              "       Roll Num  Marks\n",
              "0     102003542      1\n",
              "1     102003640      1\n",
              "2     102003725      1\n",
              "3     102003307      1\n",
              "4     102003458      1\n",
              "...         ...    ...\n",
              "1831  102003755      1\n",
              "1832  102017147      1\n",
              "1833  102017152      1\n",
              "1834  102003451      1\n",
              "1835  102003549      1\n",
              "\n",
              "[1836 rows x 2 columns]"
            ],
            "text/html": [
              "\n",
              "  <div id=\"df-3893985f-ec8b-4c4f-908c-b6ed5f2ea8dc\">\n",
              "    <div class=\"colab-df-container\">\n",
              "      <div>\n",
              "<style scoped>\n",
              "    .dataframe tbody tr th:only-of-type {\n",
              "        vertical-align: middle;\n",
              "    }\n",
              "\n",
              "    .dataframe tbody tr th {\n",
              "        vertical-align: top;\n",
              "    }\n",
              "\n",
              "    .dataframe thead th {\n",
              "        text-align: right;\n",
              "    }\n",
              "</style>\n",
              "<table border=\"1\" class=\"dataframe\">\n",
              "  <thead>\n",
              "    <tr style=\"text-align: right;\">\n",
              "      <th></th>\n",
              "      <th>Roll Num</th>\n",
              "      <th>Marks</th>\n",
              "    </tr>\n",
              "  </thead>\n",
              "  <tbody>\n",
              "    <tr>\n",
              "      <th>0</th>\n",
              "      <td>102003542</td>\n",
              "      <td>1</td>\n",
              "    </tr>\n",
              "    <tr>\n",
              "      <th>1</th>\n",
              "      <td>102003640</td>\n",
              "      <td>1</td>\n",
              "    </tr>\n",
              "    <tr>\n",
              "      <th>2</th>\n",
              "      <td>102003725</td>\n",
              "      <td>1</td>\n",
              "    </tr>\n",
              "    <tr>\n",
              "      <th>3</th>\n",
              "      <td>102003307</td>\n",
              "      <td>1</td>\n",
              "    </tr>\n",
              "    <tr>\n",
              "      <th>4</th>\n",
              "      <td>102003458</td>\n",
              "      <td>1</td>\n",
              "    </tr>\n",
              "    <tr>\n",
              "      <th>...</th>\n",
              "      <td>...</td>\n",
              "      <td>...</td>\n",
              "    </tr>\n",
              "    <tr>\n",
              "      <th>1831</th>\n",
              "      <td>102003755</td>\n",
              "      <td>1</td>\n",
              "    </tr>\n",
              "    <tr>\n",
              "      <th>1832</th>\n",
              "      <td>102017147</td>\n",
              "      <td>1</td>\n",
              "    </tr>\n",
              "    <tr>\n",
              "      <th>1833</th>\n",
              "      <td>102017152</td>\n",
              "      <td>1</td>\n",
              "    </tr>\n",
              "    <tr>\n",
              "      <th>1834</th>\n",
              "      <td>102003451</td>\n",
              "      <td>1</td>\n",
              "    </tr>\n",
              "    <tr>\n",
              "      <th>1835</th>\n",
              "      <td>102003549</td>\n",
              "      <td>1</td>\n",
              "    </tr>\n",
              "  </tbody>\n",
              "</table>\n",
              "<p>1836 rows × 2 columns</p>\n",
              "</div>\n",
              "      <button class=\"colab-df-convert\" onclick=\"convertToInteractive('df-3893985f-ec8b-4c4f-908c-b6ed5f2ea8dc')\"\n",
              "              title=\"Convert this dataframe to an interactive table.\"\n",
              "              style=\"display:none;\">\n",
              "        \n",
              "  <svg xmlns=\"http://www.w3.org/2000/svg\" height=\"24px\"viewBox=\"0 0 24 24\"\n",
              "       width=\"24px\">\n",
              "    <path d=\"M0 0h24v24H0V0z\" fill=\"none\"/>\n",
              "    <path d=\"M18.56 5.44l.94 2.06.94-2.06 2.06-.94-2.06-.94-.94-2.06-.94 2.06-2.06.94zm-11 1L8.5 8.5l.94-2.06 2.06-.94-2.06-.94L8.5 2.5l-.94 2.06-2.06.94zm10 10l.94 2.06.94-2.06 2.06-.94-2.06-.94-.94-2.06-.94 2.06-2.06.94z\"/><path d=\"M17.41 7.96l-1.37-1.37c-.4-.4-.92-.59-1.43-.59-.52 0-1.04.2-1.43.59L10.3 9.45l-7.72 7.72c-.78.78-.78 2.05 0 2.83L4 21.41c.39.39.9.59 1.41.59.51 0 1.02-.2 1.41-.59l7.78-7.78 2.81-2.81c.8-.78.8-2.07 0-2.86zM5.41 20L4 18.59l7.72-7.72 1.47 1.35L5.41 20z\"/>\n",
              "  </svg>\n",
              "      </button>\n",
              "      \n",
              "  <style>\n",
              "    .colab-df-container {\n",
              "      display:flex;\n",
              "      flex-wrap:wrap;\n",
              "      gap: 12px;\n",
              "    }\n",
              "\n",
              "    .colab-df-convert {\n",
              "      background-color: #E8F0FE;\n",
              "      border: none;\n",
              "      border-radius: 50%;\n",
              "      cursor: pointer;\n",
              "      display: none;\n",
              "      fill: #1967D2;\n",
              "      height: 32px;\n",
              "      padding: 0 0 0 0;\n",
              "      width: 32px;\n",
              "    }\n",
              "\n",
              "    .colab-df-convert:hover {\n",
              "      background-color: #E2EBFA;\n",
              "      box-shadow: 0px 1px 2px rgba(60, 64, 67, 0.3), 0px 1px 3px 1px rgba(60, 64, 67, 0.15);\n",
              "      fill: #174EA6;\n",
              "    }\n",
              "\n",
              "    [theme=dark] .colab-df-convert {\n",
              "      background-color: #3B4455;\n",
              "      fill: #D2E3FC;\n",
              "    }\n",
              "\n",
              "    [theme=dark] .colab-df-convert:hover {\n",
              "      background-color: #434B5C;\n",
              "      box-shadow: 0px 1px 3px 1px rgba(0, 0, 0, 0.15);\n",
              "      filter: drop-shadow(0px 1px 2px rgba(0, 0, 0, 0.3));\n",
              "      fill: #FFFFFF;\n",
              "    }\n",
              "  </style>\n",
              "\n",
              "      <script>\n",
              "        const buttonEl =\n",
              "          document.querySelector('#df-3893985f-ec8b-4c4f-908c-b6ed5f2ea8dc button.colab-df-convert');\n",
              "        buttonEl.style.display =\n",
              "          google.colab.kernel.accessAllowed ? 'block' : 'none';\n",
              "\n",
              "        async function convertToInteractive(key) {\n",
              "          const element = document.querySelector('#df-3893985f-ec8b-4c4f-908c-b6ed5f2ea8dc');\n",
              "          const dataTable =\n",
              "            await google.colab.kernel.invokeFunction('convertToInteractive',\n",
              "                                                     [key], {});\n",
              "          if (!dataTable) return;\n",
              "\n",
              "          const docLinkHtml = 'Like what you see? Visit the ' +\n",
              "            '<a target=\"_blank\" href=https://colab.research.google.com/notebooks/data_table.ipynb>data table notebook</a>'\n",
              "            + ' to learn more about interactive tables.';\n",
              "          element.innerHTML = '';\n",
              "          dataTable['output_type'] = 'display_data';\n",
              "          await google.colab.output.renderOutput(dataTable, element);\n",
              "          const docLink = document.createElement('div');\n",
              "          docLink.innerHTML = docLinkHtml;\n",
              "          element.appendChild(docLink);\n",
              "        }\n",
              "      </script>\n",
              "    </div>\n",
              "  </div>\n",
              "  "
            ]
          },
          "metadata": {},
          "execution_count": 2
        }
      ]
    },
    {
      "cell_type": "code",
      "source": [
        "df1=df.groupby('Roll Num')['Marks']\n",
        "print(df1)"
      ],
      "metadata": {
        "colab": {
          "base_uri": "https://localhost:8080/"
        },
        "id": "a3_UrHYeUm6l",
        "outputId": "5348dac3-1c61-4da2-d756-f87b4df3068f"
      },
      "execution_count": 12,
      "outputs": [
        {
          "output_type": "stream",
          "name": "stdout",
          "text": [
            "<pandas.core.groupby.generic.SeriesGroupBy object at 0x7fe95a8152d0>\n"
          ]
        }
      ]
    },
    {
      "cell_type": "code",
      "source": [
        "#df1=df.groupby('Roll Num')['Marks'].groups\n",
        "#print(df1)"
      ],
      "metadata": {
        "colab": {
          "base_uri": "https://localhost:8080/"
        },
        "id": "2XD9AjamV0DI",
        "outputId": "1ee90f8e-b39c-4f57-95f7-8446ac68325b"
      },
      "execution_count": 10,
      "outputs": [
        {
          "output_type": "stream",
          "name": "stdout",
          "text": [
            "{102003001: [214, 939, 953, 1219], 102003002: [121, 356, 438, 797, 1114], 102003017: [293, 951, 1271, 1569, 1763], 102003018: [266, 335, 555, 741, 1360], 102003029: [223, 570, 663, 1483, 1821], 102003030: [405, 962, 1270, 1386, 1731], 102003037: [352, 558, 943, 1156, 1217], 102003039: [283, 379, 937, 964, 1622], 102003041: [149, 1800], 102003042: [303, 1128, 1786], 102003049: [67, 454, 1040, 1082, 1227], 102003050: [763, 1261, 1396, 1647, 1812], 102003053: [805, 883, 1152, 1309, 1781], 102003056: [363, 616, 1447], 102003069: [74, 559, 569, 1310, 1314], 102003070: [538, 625, 1167, 1214, 1698], 102003071: [407, 879, 904, 1529, 1748], 102003082: [790, 909, 1030, 1395, 1510], 102003083: [257, 528, 690, 1228, 1741], 102003085: [1072, 1085, 1485, 1576, 1662], 102003089: [1560], 102003090: [111, 169, 225, 673], 102003098: [24, 584, 671, 973, 1481], 102003099: [125, 387, 507, 614, 1617], 102003101: [172, 314, 336, 1624], 102003105: [348, 640, 1057, 1162], 102003106: [104, 206, 633, 838, 896], 102003109: [53, 240, 489, 611, 1019], 102003112: [71, 181, 714, 740, 1328], 102003113: [182, 503, 1133, 1145, 1601], 102003116: [209, 307, 571, 854, 1414], 102003117: [762, 872, 1104, 1285], 102003118: [35, 103, 1116, 1308, 1412], 102003124: [450, 612, 631, 794, 1313], 102003125: [321, 487, 946, 1198, 1759], 102003127: [95, 248, 1280, 1352, 1707], 102003128: [672, 1383, 1507, 1626, 1665], 102003129: [105, 645, 796, 1232, 1672], 102003131: [501, 520, 591, 986, 1596], 102003132: [26, 1381, 1382, 1696, 1796], 102003135: [10, 1221, 1295, 1627], 102003137: [218, 636, 967, 1184, 1245], 102003138: [55, 183, 301, 410, 623], 102003139: [778, 1142, 1353, 1645], 102003140: [291, 313, 1351, 1479, 1778], 102003141: [17, 1078, 1140, 1197, 1678], 102003146: [709, 742, 1738, 1771, 1806], 102003149: [1516, 1605], 102003152: [22, 513, 540, 942], 102003156: [479, 808, 864, 1401, 1441], 102003157: [371, 767, 979, 1550, 1802], 102003158: [574, 826, 890, 932, 1785], 102003160: [66, 1002, 1528, 1701, 1735], 102003161: [52, 1100, 1191, 1475, 1722], 102003162: [211, 268, 764, 958, 1306], 102003164: [428, 534, 708, 960, 1691], 102003165: [157, 255, 1480], 102003166: [152, 253, 306, 1229, 1240], 102003169: [45, 320, 488, 1089, 1780], 102003171: [230, 699, 721, 1185, 1251], 102003173: [377, 1034, 1188, 1518], 102003177: [226, 585, 1032, 1471, 1650], 102003178: [201, 923, 1331, 1342, 1348], 102003184: [275, 418, 476, 725, 1257], 102003205: [246, 970, 1179, 1248, 1659], 102003206: [135, 954, 1266, 1365, 1597], 102003207: [7, 1290, 1431, 1583], 102003220: [261, 415, 1683, 1827], 102003228: [155, 197, 1236, 1457, 1720], 102003235: [85, 634, 1066, 1505, 1602], 102003238: [119, 641, 650, 844, 1452], 102003242: [615, 1199, 1443, 1661, 1826], 102003243: [365, 800, 982, 1063, 1584], 102003251: [682, 898, 989, 1690], 102003253: [627, 738, 780, 788], 102003256: [213, 858, 1115, 1744], 102003257: [178, 859, 907, 1118, 1798], 102003274: [110, 140, 772, 1096, 1555], 102003288: [664, 881, 1752, 1774], 102003289: [637, 732], 102003290: [86, 296, 1429, 1513], 102003293: [649, 710, 840, 1327], 102003295: [791, 802, 931, 1051, 1305], 102003299: [49, 1045, 1585, 1679], 102003304: [308, 688, 1554, 1556, 1760], 102003306: [16, 304, 518, 1324, 1670], 102003307: [3, 367, 667, 1453], 102003312: [128, 179, 368, 1042, 1189], 102003313: [54, 466, 643, 1535, 1649], 102003315: [8, 286, 511, 1178, 1242], 102003318: [242, 676, 894, 1338, 1490], 102003322: [595, 660, 868, 1252, 1620], 102003323: [267, 706, 1398, 1423, 1813], 102003333: [168, 241, 930, 1068, 1574], 102003334: [191, 505, 814, 1010, 1809], 102003346: [107, 265, 1079, 1194, 1689], 102003355: [202, 422, 498, 1170, 1694], 102003356: [151, 496, 812, 1361, 1388], 102003362: [9, 175, 924, 1377], 102003364: [171, 521, 1373, 1753], ...}\n"
          ]
        }
      ]
    },
    {
      "cell_type": "code",
      "source": [
        "df2=df1.sum()\n",
        "df2"
      ],
      "metadata": {
        "colab": {
          "base_uri": "https://localhost:8080/"
        },
        "id": "xVADp4-dVB1i",
        "outputId": "c3d4348e-8207-4347-b0cf-6340abcb9334"
      },
      "execution_count": 13,
      "outputs": [
        {
          "output_type": "execute_result",
          "data": {
            "text/plain": [
              "Roll Num\n",
              "102003001    3\n",
              "102003002    5\n",
              "102003017    5\n",
              "102003018    5\n",
              "102003029    5\n",
              "            ..\n",
              "102196010    4\n",
              "102197016    5\n",
              "102197018    4\n",
              "102197019    5\n",
              "102197021    5\n",
              "Name: Marks, Length: 400, dtype: int64"
            ]
          },
          "metadata": {},
          "execution_count": 13
        }
      ]
    },
    {
      "cell_type": "code",
      "source": [
        "df2=df2.reset_index()"
      ],
      "metadata": {
        "id": "7gXtHnqCVKy5"
      },
      "execution_count": 14,
      "outputs": []
    },
    {
      "cell_type": "code",
      "source": [
        "df2"
      ],
      "metadata": {
        "colab": {
          "base_uri": "https://localhost:8080/",
          "height": 423
        },
        "id": "P6aX5pFdVPdv",
        "outputId": "6d7e1247-41f6-4d1b-95ff-64ddf84076ae"
      },
      "execution_count": 18,
      "outputs": [
        {
          "output_type": "execute_result",
          "data": {
            "text/plain": [
              "      Roll Num  Marks\n",
              "0    102003001      3\n",
              "1    102003002      5\n",
              "2    102003017      5\n",
              "3    102003018      5\n",
              "4    102003029      5\n",
              "..         ...    ...\n",
              "395  102196010      4\n",
              "396  102197016      5\n",
              "397  102197018      4\n",
              "398  102197019      5\n",
              "399  102197021      5\n",
              "\n",
              "[400 rows x 2 columns]"
            ],
            "text/html": [
              "\n",
              "  <div id=\"df-001b64fa-e806-40b4-bb83-422495e7ec5b\">\n",
              "    <div class=\"colab-df-container\">\n",
              "      <div>\n",
              "<style scoped>\n",
              "    .dataframe tbody tr th:only-of-type {\n",
              "        vertical-align: middle;\n",
              "    }\n",
              "\n",
              "    .dataframe tbody tr th {\n",
              "        vertical-align: top;\n",
              "    }\n",
              "\n",
              "    .dataframe thead th {\n",
              "        text-align: right;\n",
              "    }\n",
              "</style>\n",
              "<table border=\"1\" class=\"dataframe\">\n",
              "  <thead>\n",
              "    <tr style=\"text-align: right;\">\n",
              "      <th></th>\n",
              "      <th>Roll Num</th>\n",
              "      <th>Marks</th>\n",
              "    </tr>\n",
              "  </thead>\n",
              "  <tbody>\n",
              "    <tr>\n",
              "      <th>0</th>\n",
              "      <td>102003001</td>\n",
              "      <td>3</td>\n",
              "    </tr>\n",
              "    <tr>\n",
              "      <th>1</th>\n",
              "      <td>102003002</td>\n",
              "      <td>5</td>\n",
              "    </tr>\n",
              "    <tr>\n",
              "      <th>2</th>\n",
              "      <td>102003017</td>\n",
              "      <td>5</td>\n",
              "    </tr>\n",
              "    <tr>\n",
              "      <th>3</th>\n",
              "      <td>102003018</td>\n",
              "      <td>5</td>\n",
              "    </tr>\n",
              "    <tr>\n",
              "      <th>4</th>\n",
              "      <td>102003029</td>\n",
              "      <td>5</td>\n",
              "    </tr>\n",
              "    <tr>\n",
              "      <th>...</th>\n",
              "      <td>...</td>\n",
              "      <td>...</td>\n",
              "    </tr>\n",
              "    <tr>\n",
              "      <th>395</th>\n",
              "      <td>102196010</td>\n",
              "      <td>4</td>\n",
              "    </tr>\n",
              "    <tr>\n",
              "      <th>396</th>\n",
              "      <td>102197016</td>\n",
              "      <td>5</td>\n",
              "    </tr>\n",
              "    <tr>\n",
              "      <th>397</th>\n",
              "      <td>102197018</td>\n",
              "      <td>4</td>\n",
              "    </tr>\n",
              "    <tr>\n",
              "      <th>398</th>\n",
              "      <td>102197019</td>\n",
              "      <td>5</td>\n",
              "    </tr>\n",
              "    <tr>\n",
              "      <th>399</th>\n",
              "      <td>102197021</td>\n",
              "      <td>5</td>\n",
              "    </tr>\n",
              "  </tbody>\n",
              "</table>\n",
              "<p>400 rows × 2 columns</p>\n",
              "</div>\n",
              "      <button class=\"colab-df-convert\" onclick=\"convertToInteractive('df-001b64fa-e806-40b4-bb83-422495e7ec5b')\"\n",
              "              title=\"Convert this dataframe to an interactive table.\"\n",
              "              style=\"display:none;\">\n",
              "        \n",
              "  <svg xmlns=\"http://www.w3.org/2000/svg\" height=\"24px\"viewBox=\"0 0 24 24\"\n",
              "       width=\"24px\">\n",
              "    <path d=\"M0 0h24v24H0V0z\" fill=\"none\"/>\n",
              "    <path d=\"M18.56 5.44l.94 2.06.94-2.06 2.06-.94-2.06-.94-.94-2.06-.94 2.06-2.06.94zm-11 1L8.5 8.5l.94-2.06 2.06-.94-2.06-.94L8.5 2.5l-.94 2.06-2.06.94zm10 10l.94 2.06.94-2.06 2.06-.94-2.06-.94-.94-2.06-.94 2.06-2.06.94z\"/><path d=\"M17.41 7.96l-1.37-1.37c-.4-.4-.92-.59-1.43-.59-.52 0-1.04.2-1.43.59L10.3 9.45l-7.72 7.72c-.78.78-.78 2.05 0 2.83L4 21.41c.39.39.9.59 1.41.59.51 0 1.02-.2 1.41-.59l7.78-7.78 2.81-2.81c.8-.78.8-2.07 0-2.86zM5.41 20L4 18.59l7.72-7.72 1.47 1.35L5.41 20z\"/>\n",
              "  </svg>\n",
              "      </button>\n",
              "      \n",
              "  <style>\n",
              "    .colab-df-container {\n",
              "      display:flex;\n",
              "      flex-wrap:wrap;\n",
              "      gap: 12px;\n",
              "    }\n",
              "\n",
              "    .colab-df-convert {\n",
              "      background-color: #E8F0FE;\n",
              "      border: none;\n",
              "      border-radius: 50%;\n",
              "      cursor: pointer;\n",
              "      display: none;\n",
              "      fill: #1967D2;\n",
              "      height: 32px;\n",
              "      padding: 0 0 0 0;\n",
              "      width: 32px;\n",
              "    }\n",
              "\n",
              "    .colab-df-convert:hover {\n",
              "      background-color: #E2EBFA;\n",
              "      box-shadow: 0px 1px 2px rgba(60, 64, 67, 0.3), 0px 1px 3px 1px rgba(60, 64, 67, 0.15);\n",
              "      fill: #174EA6;\n",
              "    }\n",
              "\n",
              "    [theme=dark] .colab-df-convert {\n",
              "      background-color: #3B4455;\n",
              "      fill: #D2E3FC;\n",
              "    }\n",
              "\n",
              "    [theme=dark] .colab-df-convert:hover {\n",
              "      background-color: #434B5C;\n",
              "      box-shadow: 0px 1px 3px 1px rgba(0, 0, 0, 0.15);\n",
              "      filter: drop-shadow(0px 1px 2px rgba(0, 0, 0, 0.3));\n",
              "      fill: #FFFFFF;\n",
              "    }\n",
              "  </style>\n",
              "\n",
              "      <script>\n",
              "        const buttonEl =\n",
              "          document.querySelector('#df-001b64fa-e806-40b4-bb83-422495e7ec5b button.colab-df-convert');\n",
              "        buttonEl.style.display =\n",
              "          google.colab.kernel.accessAllowed ? 'block' : 'none';\n",
              "\n",
              "        async function convertToInteractive(key) {\n",
              "          const element = document.querySelector('#df-001b64fa-e806-40b4-bb83-422495e7ec5b');\n",
              "          const dataTable =\n",
              "            await google.colab.kernel.invokeFunction('convertToInteractive',\n",
              "                                                     [key], {});\n",
              "          if (!dataTable) return;\n",
              "\n",
              "          const docLinkHtml = 'Like what you see? Visit the ' +\n",
              "            '<a target=\"_blank\" href=https://colab.research.google.com/notebooks/data_table.ipynb>data table notebook</a>'\n",
              "            + ' to learn more about interactive tables.';\n",
              "          element.innerHTML = '';\n",
              "          dataTable['output_type'] = 'display_data';\n",
              "          await google.colab.output.renderOutput(dataTable, element);\n",
              "          const docLink = document.createElement('div');\n",
              "          docLink.innerHTML = docLinkHtml;\n",
              "          element.appendChild(docLink);\n",
              "        }\n",
              "      </script>\n",
              "    </div>\n",
              "  </div>\n",
              "  "
            ]
          },
          "metadata": {},
          "execution_count": 18
        }
      ]
    },
    {
      "cell_type": "code",
      "source": [
        "df2.to_csv('Marks done.csv')"
      ],
      "metadata": {
        "id": "a0hLMwoZWGF1"
      },
      "execution_count": 16,
      "outputs": []
    }
  ]
}